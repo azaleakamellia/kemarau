{
  "nbformat": 4,
  "nbformat_minor": 0,
  "metadata": {
    "colab": {
      "provenance": [],
      "mount_file_id": "1rOyzNJGMDMNX5EqXdj74ZXdx7D0ggMto",
      "authorship_tag": "ABX9TyOQ+x3uig5qXIp0t4idMi6D",
      "include_colab_link": true
    },
    "kernelspec": {
      "name": "python3",
      "display_name": "Python 3"
    },
    "language_info": {
      "name": "python"
    }
  },
  "cells": [
    {
      "cell_type": "markdown",
      "metadata": {
        "id": "view-in-github",
        "colab_type": "text"
      },
      "source": [
        "<a href=\"https://colab.research.google.com/github/azaleakamellia/kemarau/blob/main/Extracting%20monthly%20CHIRPS%20data%20as%20CSV.ipynb\" target=\"_parent\"><img src=\"https://colab.research.google.com/assets/colab-badge.svg\" alt=\"Open In Colab\"/></a>"
      ]
    },
    {
      "cell_type": "markdown",
      "source": [
        "Import the library, authenticate and initialize the Google Project you want to use for this project."
      ],
      "metadata": {
        "id": "FYSnUEQLCxxX"
      }
    },
    {
      "cell_type": "code",
      "execution_count": null,
      "metadata": {
        "id": "_N-0p77ZAnXy"
      },
      "outputs": [],
      "source": [
        "import ee\n",
        "\n",
        "ee.Authenticate()\n",
        "ee.Initialize(project='ee-azaleakamellia')"
      ]
    },
    {
      "cell_type": "markdown",
      "source": [
        "##1️⃣ Load the CHIRPS Pentad ImageCollection"
      ],
      "metadata": {
        "id": "oBUOmLI0C6vX"
      }
    },
    {
      "cell_type": "code",
      "source": [
        "chirps = ee.ImageCollection('UCSB-CHG/CHIRPS/PENTAD')"
      ],
      "metadata": {
        "id": "p84z_J66Aq1K"
      },
      "execution_count": null,
      "outputs": []
    },
    {
      "cell_type": "markdown",
      "source": [
        "##2️⃣ Load the shapefile with coordinate points (replace with your asset ID)"
      ],
      "metadata": {
        "id": "lAAiJCVXDN2L"
      }
    },
    {
      "cell_type": "code",
      "source": [
        "points = ee.FeatureCollection('projects/ee-azaleakamellia/assets/insitu_coords')"
      ],
      "metadata": {
        "id": "mgf_gsweDWv4"
      },
      "execution_count": null,
      "outputs": []
    },
    {
      "cell_type": "markdown",
      "source": [
        "##3️⃣ Define the time range (1981 to 2024)"
      ],
      "metadata": {
        "id": "BOPziENSG2R3"
      }
    },
    {
      "cell_type": "code",
      "source": [
        "startDate = ee.Date.fromYMD(1981, 1, 1)\n",
        "endDate = ee.Date.fromYMD(2024, 12, 31)"
      ],
      "metadata": {
        "id": "5KvIXgDSG7qL"
      },
      "execution_count": null,
      "outputs": []
    },
    {
      "cell_type": "markdown",
      "source": [
        "##4️⃣Filter the CHIRPS data collection for the time range we want"
      ],
      "metadata": {
        "id": "lLjMF-k_HNTK"
      }
    },
    {
      "cell_type": "code",
      "source": [
        "collection = chirps.select('precipitation').filterDate(startDate, endDate)"
      ],
      "metadata": {
        "id": "dN0iXmfFHUQV"
      },
      "execution_count": null,
      "outputs": []
    },
    {
      "cell_type": "markdown",
      "source": [
        "##5️⃣ Function to calculate monthly total precipitation"
      ],
      "metadata": {
        "id": "ydwxI7_eHdJd"
      }
    },
    {
      "cell_type": "code",
      "source": [
        "def calculateMonthlySum(year, month):\n",
        "    start = ee.Date.fromYMD(year, month, 1)\n",
        "    end = start.advance(1, 'month')\n",
        "    monthlyCollection = collection.filterDate(start, end)\n",
        "    monthlySum = monthlyCollection.sum()  # Sum of images in the month\n",
        "    return monthlySum.set('year', year).set('month', month)"
      ],
      "metadata": {
        "id": "yuWIZbiJHcC1"
      },
      "execution_count": null,
      "outputs": []
    },
    {
      "cell_type": "markdown",
      "source": [
        "##6️⃣ Create a list of years and months"
      ],
      "metadata": {
        "id": "MEpLgmYrb-mC"
      }
    },
    {
      "cell_type": "code",
      "source": [
        "years = ee.List.sequence(1981, 2024)\n",
        "months = ee.List.sequence(1, 12)\n",
        "\n",
        "# Use a nested loop to calculate monthly images\n",
        "monthlyImages = years.map(\n",
        "    lambda y: months.map(\n",
        "        lambda m: calculateMonthlySum(ee.Number(y), ee.Number(m))\n",
        "    )\n",
        ").flatten()\n",
        "\n",
        "# Convert to an ImageCollection\n",
        "monthlyImageCollection = ee.ImageCollection(monthlyImages)"
      ],
      "metadata": {
        "id": "eceDJrZdcGfF"
      },
      "execution_count": null,
      "outputs": []
    },
    {
      "cell_type": "markdown",
      "source": [
        "##7️⃣ Add coordinates to the feature collection points & Extract data for points\n",
        "\n",
        "\n",
        "\n"
      ],
      "metadata": {
        "id": "wJuSfZVQcSem"
      }
    },
    {
      "cell_type": "code",
      "source": [
        "def addCoordinates(feature):\n",
        "    coords = feature.geometry().coordinates()\n",
        "    return feature.set('longitude', coords.get(0)).set('latitude', coords.get(1))\n",
        "\n",
        "points = points.map(addCoordinates)  # Add coordinates to the points FeatureCollection\n",
        "\n",
        "def extractData(image):\n",
        "    # Sample the image at the points\n",
        "    sampledPoints = image.sampleRegions(\n",
        "        collection=points,  # Use the points with coordinates\n",
        "        properties=['longitude', 'latitude'],  # Include coordinates in the output\n",
        "        scale=5000,\n",
        "        geometries=True\n",
        "    )\n",
        "    # Add year and month metadata to each sampled point\n",
        "    return sampledPoints.map(\n",
        "        lambda f: f.set({\n",
        "            'year': image.get('year'),\n",
        "            'month': image.get('month')\n",
        "        })\n",
        "    )\n",
        "\n",
        "# Apply the extraction to each monthly image\n",
        "extractedData = monthlyImageCollection.map(extractData).flatten()"
      ],
      "metadata": {
        "id": "aHSXEI7OcdFB"
      },
      "execution_count": null,
      "outputs": []
    },
    {
      "cell_type": "markdown",
      "source": [
        "##8️⃣ Export the data as a CSV"
      ],
      "metadata": {
        "id": "uJH3MI89L2xj"
      }
    },
    {
      "cell_type": "code",
      "source": [
        "task = ee.batch.Export.table.toDrive(\n",
        "    collection=extractedData,\n",
        "    description='CHIRPS_Monthly_Precipitation_upgraded',\n",
        "    folder='earthengine',\n",
        "    fileNamePrefix='CHIRPS_monthly_precipitation_upgraded',\n",
        "    fileFormat='CSV',\n",
        "    selectors=['year', 'month', 'longitude', 'latitude', 'precipitation']\n",
        ")\n",
        "\n",
        "task.start()"
      ],
      "metadata": {
        "id": "PuF1_8HGL8Dm"
      },
      "execution_count": null,
      "outputs": []
    }
  ]
}